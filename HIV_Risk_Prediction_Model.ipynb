{
  "nbformat": 4,
  "nbformat_minor": 0,
  "metadata": {
    "colab": {
      "provenance": [],
      "mount_file_id": "1HGYbtmX3Ce9teRzTl_MKC1U9VbfAex1k",
      "authorship_tag": "ABX9TyPVBqVjimHmhcuz9VR+eAs/",
      "include_colab_link": true
    },
    "kernelspec": {
      "name": "python3",
      "display_name": "Python 3"
    },
    "language_info": {
      "name": "python"
    }
  },
  "cells": [
    {
      "cell_type": "markdown",
      "metadata": {
        "id": "view-in-github",
        "colab_type": "text"
      },
      "source": [
        "<a href=\"https://colab.research.google.com/github/HasangaDineliKavindya/HIV_Risk_Prediction_Model/blob/main/HIV_Risk_Prediction_Model.ipynb\" target=\"_parent\"><img src=\"https://colab.research.google.com/assets/colab-badge.svg\" alt=\"Open In Colab\"/></a>"
      ]
    },
    {
      "cell_type": "code",
      "execution_count": 61,
      "metadata": {
        "collapsed": true,
        "id": "ird2Ol7rQlum"
      },
      "outputs": [],
      "source": [
        "import pandas as pd\n",
        "import numpy as np\n",
        "from sklearn.model_selection import train_test_split\n",
        "from sklearn.ensemble import RandomForestClassifier\n",
        "from sklearn.metrics import accuracy_score, classification_report\n",
        "import joblib\n",
        "\n"
      ]
    },
    {
      "cell_type": "code",
      "source": [
        "# Load datasets\n",
        "art_coverage = pd.read_csv(\"/art_coverage_by_country_clean.csv\")\n",
        "art_pediatric = pd.read_csv(\"/art_pediatric_coverage_by_country_clean.csv\")\n",
        "adult_cases = pd.read_csv(\"/no_of_cases_adults_15_to_49_by_country_clean.csv\")\n",
        "deaths = pd.read_csv(\"/no_of_deaths_by_country_clean.csv\")\n",
        "living_with_hiv = pd.read_csv(\"/no_of_people_living_with_hiv_by_country_clean.csv\")\n",
        "prevention_mtc = pd.read_csv(\"/prevention_of_mother_to_child_transmission_by_country_clean.csv\")\n",
        "\n"
      ],
      "metadata": {
        "id": "FveJMPVWZfUL"
      },
      "execution_count": 62,
      "outputs": []
    },
    {
      "cell_type": "code",
      "source": [
        "# Preprocess the dataset\n",
        "def preprocess_column(column):\n",
        "    # Extract median values from ranges (e.g., \"7200[4100–11000]\")\n",
        "    return column.str.extract(r'(\\d+)\\[.*\\]').fillna(method='ffill').astype(float)[0]\n",
        "\n",
        "\n"
      ],
      "metadata": {
        "id": "4_45eJDUZvrp"
      },
      "execution_count": 63,
      "outputs": []
    },
    {
      "cell_type": "code",
      "source": [
        "# Apply preprocessing to necessary columns\n",
        "columns_to_preprocess = [\n",
        "    'Estimated number of people living with HIV',\n",
        "    'Estimated ART coverage among people living with HIV (%)'\n",
        "]\n",
        "\n",
        "for col in columns_to_preprocess:\n",
        "    if col in art_coverage.columns:\n",
        "        art_coverage[col] = preprocess_column(art_coverage[col])\n",
        "\n"
      ],
      "metadata": {
        "colab": {
          "base_uri": "https://localhost:8080/"
        },
        "id": "yILBUHALZ1vg",
        "outputId": "91b2e25c-74b8-4f20-ea76-f14c56de112e"
      },
      "execution_count": 64,
      "outputs": [
        {
          "output_type": "stream",
          "name": "stderr",
          "text": [
            "<ipython-input-63-a5d41ec5e4a5>:4: FutureWarning: DataFrame.fillna with 'method' is deprecated and will raise in a future version. Use obj.ffill() or obj.bfill() instead.\n",
            "  return column.str.extract(r'(\\d+)\\[.*\\]').fillna(method='ffill').astype(float)[0]\n",
            "<ipython-input-63-a5d41ec5e4a5>:4: FutureWarning: DataFrame.fillna with 'method' is deprecated and will raise in a future version. Use obj.ffill() or obj.bfill() instead.\n",
            "  return column.str.extract(r'(\\d+)\\[.*\\]').fillna(method='ffill').astype(float)[0]\n"
          ]
        }
      ]
    },
    {
      "cell_type": "code",
      "source": [
        "# Merge datasets (if applicable)\n",
        "data = art_coverage  # Assuming art_coverage is the primary dataset\n",
        "\n",
        "# Handle missing values\n",
        "data = data.dropna()\n",
        "\n",
        "# Feature selection\n",
        "features = [\n",
        "    'Reported number of people receiving ART',\n",
        "    'Estimated number of people living with HIV',\n",
        "    'Estimated ART coverage among people living with HIV (%)'\n",
        "]\n",
        "\n",
        "data = data[features]\n",
        "\n",
        "data['Risk Category'] = pd.qcut(\n",
        "    data['Estimated ART coverage among people living with HIV (%)'],\n",
        "    q=3,\n",
        "    labels=['Low', 'Medium', 'High']\n",
        ")\n",
        "\n"
      ],
      "metadata": {
        "id": "aUFvqy4dZ5D7"
      },
      "execution_count": 65,
      "outputs": []
    },
    {
      "cell_type": "code",
      "source": [
        "# Train-test split\n",
        "X = data[features]\n",
        "y = data['Risk Category']\n",
        "\n",
        "if len(X) == 0 or len(y) == 0:\n",
        "    raise ValueError(\"Dataset is empty after preprocessing. Please check the data source and preprocessing steps.\")\n",
        "\n",
        "X_train, X_test, y_train, y_test = train_test_split(X, y, test_size=0.2, random_state=42)\n",
        "\n",
        "# Data scaling (optional, depending on the model requirements)\n",
        "# from sklearn.preprocessing import StandardScaler\n",
        "# scaler = StandardScaler()\n",
        "# X_train = scaler.fit_transform(X_train)\n",
        "# X_test = scaler.transform(X_test)\n",
        "\n",
        "# Train the model\n",
        "clf = RandomForestClassifier(random_state=42)\n",
        "clf.fit(X_train, y_train)\n",
        "\n",
        "# Evaluate the model\n",
        "y_pred = clf.predict(X_test)\n",
        "print(\"Accuracy:\", accuracy_score(y_test, y_pred))\n",
        "print(\"Classification Report:\\n\", classification_report(y_test, y_pred))\n",
        "\n",
        "# Save the model\n",
        "joblib.dump(clf, 'social_disease_model.pkl')\n",
        "\n",
        "# Feature importance\n",
        "importances = clf.feature_importances_\n",
        "feature_importance_df = pd.DataFrame({\n",
        "    'Feature': features,\n",
        "    'Importance': importances\n",
        "}).sort_values(by='Importance', ascending=False)\n",
        "print(feature_importance_df)\n",
        "\n"
      ],
      "metadata": {
        "colab": {
          "base_uri": "https://localhost:8080/"
        },
        "id": "2rC98EYTZ-X7",
        "outputId": "cebbb503-89cb-4907-8426-32c2a326c5ff"
      },
      "execution_count": 66,
      "outputs": [
        {
          "output_type": "stream",
          "name": "stdout",
          "text": [
            "Accuracy: 0.9285714285714286\n",
            "Classification Report:\n",
            "               precision    recall  f1-score   support\n",
            "\n",
            "        High       0.92      1.00      0.96        12\n",
            "         Low       1.00      0.90      0.95        10\n",
            "      Medium       0.83      0.83      0.83         6\n",
            "\n",
            "    accuracy                           0.93        28\n",
            "   macro avg       0.92      0.91      0.91        28\n",
            "weighted avg       0.93      0.93      0.93        28\n",
            "\n",
            "                                             Feature  Importance\n",
            "2  Estimated ART coverage among people living wit...    0.712247\n",
            "0            Reported number of people receiving ART    0.150927\n",
            "1         Estimated number of people living with HIV    0.136827\n"
          ]
        }
      ]
    },
    {
      "cell_type": "code",
      "source": [
        "# Visualization (optional)\n",
        "import matplotlib.pyplot as plt\n",
        "feature_importance_df.plot(kind='bar', x='Feature', y='Importance', legend=False)\n",
        "plt.title('Feature Importance')\n",
        "plt.xlabel('Features')\n",
        "plt.ylabel('Importance')\n",
        "plt.show()"
      ],
      "metadata": {
        "colab": {
          "base_uri": "https://localhost:8080/",
          "height": 864
        },
        "id": "cuSP3DebaBiB",
        "outputId": "c4dd1f29-3be7-4cd4-f556-b24e96ae3dc0"
      },
      "execution_count": 67,
      "outputs": [
        {
          "output_type": "display_data",
          "data": {
            "text/plain": [
              "<Figure size 640x480 with 1 Axes>"
            ],
            "image/png": "[encoded data removed]"
          },
          "metadata": {}
        }
      ]
    },
    {
      "cell_type": "code",
      "source": [
        "!pip install joblib\n"
      ],
      "metadata": {
        "colab": {
          "base_uri": "https://localhost:8080/"
        },
        "id": "wcGLqnJSacgp",
        "outputId": "1ae6ac14-875f-4c35-f5c3-0d841034da93"
      },
      "execution_count": 68,
      "outputs": [
        {
          "output_type": "stream",
          "name": "stdout",
          "text": [
            "Requirement already satisfied: joblib in /usr/local/lib/python3.11/dist-packages (1.4.2)\n"
          ]
        }
      ]
    },
    {
      "cell_type": "code",
      "source": [
        "from sklearn.ensemble import RandomForestClassifier\n",
        "from sklearn.datasets import load_iris\n",
        "from sklearn.model_selection import train_test_split\n",
        "import joblib\n",
        "\n",
        "# Example: Train a simple model\n",
        "data = load_iris()\n",
        "X, y = data.data, data.target\n",
        "X_train, X_test, y_train, y_test = train_test_split(X, y, test_size=0.2, random_state=42)\n",
        "\n",
        "# Train the model\n",
        "model = RandomForestClassifier()\n",
        "model.fit(X_train, y_train)\n",
        "\n",
        "# Save the model\n",
        "joblib.dump(model, 'trained_model.joblib')\n",
        "print(\"Model saved as 'trained_model.joblib'\")\n"
      ],
      "metadata": {
        "colab": {
          "base_uri": "https://localhost:8080/"
        },
        "id": "_bKm7DVKagIe",
        "outputId": "6a764b0f-470f-4b83-8788-d83a22ba8722"
      },
      "execution_count": 69,
      "outputs": [
        {
          "output_type": "stream",
          "name": "stdout",
          "text": [
            "Model saved as 'trained_model.joblib'\n"
          ]
        }
      ]
    },
    {
      "cell_type": "code",
      "source": [
        "from google.colab import files\n",
        "files.download('trained_model.joblib')\n"
      ],
      "metadata": {
        "colab": {
          "base_uri": "https://localhost:8080/",
          "height": 17
        },
        "id": "N-iCq9izakAU",
        "outputId": "3a630d27-893c-4da3-cdce-fd01024924b7"
      },
      "execution_count": 70,
      "outputs": [
        {
          "output_type": "display_data",
          "data": {
            "text/plain": [
              "<IPython.core.display.Javascript object>"
            ],
            "application/javascript": [
              "\n",
              "    async function download(id, filename, size) {\n",
              "      if (!google.colab.kernel.accessAllowed) {\n",
              "        return;\n",
              "      }\n",
              "      const div = document.createElement('div');\n",
              "      const label = document.createElement('label');\n",
              "      label.textContent = `Downloading \"${filename}\": `;\n",
              "      div.appendChild(label);\n",
              "      const progress = document.createElement('progress');\n",
              "      progress.max = size;\n",
              "      div.appendChild(progress);\n",
              "      document.body.appendChild(div);\n",
              "\n",
              "      const buffers = [];\n",
              "      let downloaded = 0;\n",
              "\n",
              "      const channel = await google.colab.kernel.comms.open(id);\n",
              "      // Send a message to notify the kernel that we're ready.\n",
              "      channel.send({})\n",
              "\n",
              "      for await (const message of channel.messages) {\n",
              "        // Send a message to notify the kernel that we're ready.\n",
              "        channel.send({})\n",
              "        if (message.buffers) {\n",
              "          for (const buffer of message.buffers) {\n",
              "            buffers.push(buffer);\n",
              "            downloaded += buffer.byteLength;\n",
              "            progress.value = downloaded;\n",
              "          }\n",
              "        }\n",
              "      }\n",
              "      const blob = new Blob(buffers, {type: 'application/binary'});\n",
              "      const a = document.createElement('a');\n",
              "      a.href = window.URL.createObjectURL(blob);\n",
              "      a.download = filename;\n",
              "      div.appendChild(a);\n",
              "      a.click();\n",
              "      div.remove();\n",
              "    }\n",
              "  "
            ]
          },
          "metadata": {}
        },
        {
          "output_type": "display_data",
          "data": {
            "text/plain": [
              "<IPython.core.display.Javascript object>"
            ],
            "application/javascript": [
              "download(\"download_d44383db-6f30-446a-b900-4a6b23b7731d\", \"trained_model.joblib\", 187281)"
            ]
          },
          "metadata": {}
        }
      ]
    },
    {
      "cell_type": "code",
      "source": [
        "# Load the saved model\n",
        "loaded_model = joblib.load('trained_model.joblib')\n",
        "\n",
        "# Test the loaded model\n",
        "predictions = loaded_model.predict(X_test)\n",
        "print(\"Predictions:\", predictions)\n"
      ],
      "metadata": {
        "colab": {
          "base_uri": "https://localhost:8080/"
        },
        "id": "rxGJGEeLane2",
        "outputId": "8672845f-9725-4028-e929-a98966aab145"
      },
      "execution_count": 71,
      "outputs": [
        {
          "output_type": "stream",
          "name": "stdout",
          "text": [
            "Predictions: [1 0 2 1 1 0 1 2 1 1 2 0 0 0 0 1 2 1 1 2 0 2 0 2 2 2 2 2 0 0]\n"
          ]
        }
      ]
    },
    {
      "cell_type": "code",
      "source": [
        "# Install Git (if not already installed)\n",
        "!apt-get install git\n",
        "\n",
        "# Configure your Git user (replace with your name and email)\n",
        "!git config --global user.name \"HasangaDineliKavindya\"\n",
        "!git config --global user.email \"hasangakavindya@gmail.com\"\n"
      ],
      "metadata": {
        "colab": {
          "base_uri": "https://localhost:8080/"
        },
        "id": "YNglSHygbHyK",
        "outputId": "fd9d4695-2671-4ba3-9365-d3409eec6f43"
      },
      "execution_count": 72,
      "outputs": [
        {
          "output_type": "stream",
          "name": "stdout",
          "text": [
            "Reading package lists... Done\n",
            "Building dependency tree... Done\n",
            "Reading state information... Done\n",
            "git is already the newest version (1:2.34.1-1ubuntu1.12).\n",
            "0 upgraded, 0 newly installed, 0 to remove and 49 not upgraded.\n"
          ]
        }
      ]
    },
    {
      "cell_type": "code",
      "source": [
        "!pip install requests\n"
      ],
      "metadata": {
        "colab": {
          "base_uri": "https://localhost:8080/"
        },
        "id": "wuGBboEPba7O",
        "outputId": "caf5c00c-a53d-47ba-e189-ed711d6936da"
      },
      "execution_count": 73,
      "outputs": [
        {
          "output_type": "stream",
          "name": "stdout",
          "text": [
            "Requirement already satisfied: requests in /usr/local/lib/python3.11/dist-packages (2.32.3)\n",
            "Requirement already satisfied: charset-normalizer<4,>=2 in /usr/local/lib/python3.11/dist-packages (from requests) (3.4.1)\n",
            "Requirement already satisfied: idna<4,>=2.5 in /usr/local/lib/python3.11/dist-packages (from requests) (3.10)\n",
            "Requirement already satisfied: urllib3<3,>=1.21.1 in /usr/local/lib/python3.11/dist-packages (from requests) (2.3.0)\n",
            "Requirement already satisfied: certifi>=2017.4.17 in /usr/local/lib/python3.11/dist-packages (from requests) (2024.12.14)\n"
          ]
        }
      ]
    },
    {
      "cell_type": "code",
      "source": [],
      "metadata": {
        "id": "jugs18_7bcmN"
      },
      "execution_count": null,
      "outputs": []
    }
  ]
}